{
  "cells": [
    {
      "cell_type": "markdown",
      "id": "13439856",
      "metadata": {
        "id": "13439856"
      },
      "source": [
        "# Recall Machine Learning Classification models\n",
        "\n",
        "At the end of this Lesson the studen will remember the main steps to train a model:\n",
        "\n",
        " - The similarities and differences between Predictive and Classification models\n",
        " - Precision and accuracy methods for model evaluation\n",
        " - Decision Trees\n",
        " - Logistic Regression\n",
        " - Random Forests\n",
        "\n",
        "**You have Questions to answer in the middle of the notebook, also a recapitulation at the end**"
      ]
    },
    {
      "cell_type": "code",
      "execution_count": 1,
      "id": "072ed1da",
      "metadata": {
        "id": "072ed1da"
      },
      "outputs": [],
      "source": [
        "import pandas as pd\n",
        "import matplotlib.pyplot as plt\n",
        "import numpy as np\n",
        "import seaborn as sns\n",
        "sns.set()\n",
        "\n",
        "from tabulate import tabulate\n",
        "\n",
        "from sklearn.model_selection import train_test_split\n",
        "\n",
        "from sklearn import tree\n",
        "from sklearn.metrics import accuracy_score,classification_report,confusion_matrix, roc_curve, roc_auc_score\n",
        "from sklearn.ensemble import RandomForestClassifier\n",
        "from sklearn.linear_model import LogisticRegression"
      ]
    },
    {
      "cell_type": "markdown",
      "id": "7b468a6c",
      "metadata": {
        "id": "7b468a6c"
      },
      "source": [
        "### Similarities and differences between Predictive and Classification models\n",
        "\n",
        "Similarities, both methodologies:\n",
        "\n",
        " - Are types of machine learning models used for making predictions based on data\n",
        " - Have one or more independent variables and one dependent variable, so they are supervised learning\n",
        " - Require data cleaning and feature engineering\n",
        " - Independent variables can be categorical or continuous\n",
        " - Categorical variables must be dummy\n",
        " - They are trained using a train dataset and validated through a test dataset\n",
        " - Continuous features must be standardized\n",
        "\n",
        "\n",
        "Differences:\n",
        "\n",
        " - Type of prediction task. Predictive models aim to predict a continuous numerical dependent variable, while classification models focus on assigning data points to discrete categories or classes.\n",
        " - Accuracy metrics. Predictive models reduce distances between prediction and actual values. Classification models measures how many instances are well or wrongly classified\n",
        "\n",
        "\n"
      ]
    },
    {
      "cell_type": "markdown",
      "id": "ffbf72ac",
      "metadata": {
        "id": "ffbf72ac"
      },
      "source": [
        "## Confusion matrix\n",
        "\n",
        "https://www.youtube.com/watch?v=Kdsp6soqA7o\n",
        "\n",
        "A confusion matrix is a table used in machine learning to evaluate the performance of a classification model. It summarizes the number of true positive, true negative, false positive, and false negative predictions, providing insight into the model's accuracy, precision, recall, and F1-score."
      ]
    },
    {
      "cell_type": "code",
      "execution_count": null,
      "id": "48b936c7",
      "metadata": {
        "id": "48b936c7",
        "outputId": "cbee468e-f8b6-4b7f-fdd8-f461fdfeb0b3"
      },
      "outputs": [
        {
          "name": "stdout",
          "output_type": "stream",
          "text": [
            "╒════════╤══════════╤══════════╕\n",
            "│        │ pred -   │ pred +   │\n",
            "╞════════╪══════════╪══════════╡\n",
            "│ real - │ TN       │ FP       │\n",
            "├────────┼──────────┼──────────┤\n",
            "│ real + │ FN       │ TP       │\n",
            "╘════════╧══════════╧══════════╛\n"
          ]
        }
      ],
      "source": [
        "print(tabulate([['TN',  'FP'],[ 'FN',  'TP']],headers = ['pred -','pred +'], showindex = ['real -','real +'], tablefmt = 'fancy_grid'))\n"
      ]
    },
    {
      "cell_type": "markdown",
      "id": "7791f95e",
      "metadata": {
        "id": "7791f95e"
      },
      "source": [
        "## Classification model accuracy measures\n",
        "\n",
        "https://medium.com/analytics-vidhya/what-is-a-confusion-matrix-d1c0f8feda5#:~:text=A%20confusion%20matrix%20is%20a%20tabular%20summary%20of,performance%20metrics%20like%20accuracy%2C%20precision%2C%20recall%2C%20and%20F1-score.\n",
        "\n",
        "### Accuracy\n",
        "\n",
        "Accuracy is a performance metric used in machine learning to measure the proportion of correctly predicted instances out of the total instances in a dataset. It is calculated as the ratio of true predictions (both true positives and true negatives) to the total number of predictions. Accuracy provides a general sense of a model's correctness but may not be sufficient for imbalanced datasets or when specific types of errors are more critical.\n",
        "\n",
        "$$ TP + TN $$ $$ ------ $$ $$ TP + FP + TN + FN $$\n",
        "\n",
        "\n",
        "### Precision\n",
        "\n",
        "Measures the proportion of true positive predictions (correct positive predictions) out of all positive predictions made by a model. It quantifies the model's ability to make accurate positive predictions and is often used in conjunction with recall to evaluate a model's performance, especially in binary classification problems.\n",
        "\n",
        "- From all of the individuals classified as Positive, How many of them really were?\n",
        "\n",
        "\n",
        "$$ TP $$ $$ ------ $$ $$ TP + FP $$\n",
        "\n",
        "This indicator is specially important to optimize when we want to maximize the prediction of one of the classes, without regarding the other (or others). For example in spam email classification\n",
        "\n",
        "\n",
        "### Recall\n",
        "\n",
        "Recall, also known as sensitivity or true positive rate, is a performance metric in machine learning that measures the proportion of true positive predictions (correctly identified positive cases) out of all actual positive instances in a dataset. It assesses a model's ability to capture and identify all relevant positive cases and is particularly important in scenarios where missing positive instances can have significant consequences, such as medical diagnosis or fraud detection.\n",
        "\n",
        "- From all the positive individuals, How many of them were correctly classified?\n",
        "\n",
        "\n",
        "$$ TP $$ $$ ------ $$ $$ TP + FN $$\n",
        "\n",
        "\n",
        "\n",
        "\n",
        "### F-Score\n",
        "\n",
        "The F-Score, also known as the F1-Score, is a performance metric in machine learning that combines precision and recall into a single value. It is calculated as the harmonic mean of precision and recall and is used to provide a balanced assessment of a model's performance, especially in situations where there is an uneven class distribution or when both false positives and false negatives are important. The F1-Score is particularly useful when optimizing a model for both precision and recall simultaneously.\n",
        "\n",
        "\n",
        "$$ 2 * (Precision * Recall) $$ $$ ------ $$ $$ (Precision + Recall) $$\n",
        "\n"
      ]
    },
    {
      "cell_type": "markdown",
      "id": "1b567480",
      "metadata": {
        "id": "1b567480"
      },
      "source": [
        "## Decision Trees\n",
        "\n",
        "\n",
        "A decision tree is a supervised machine learning algorithm that uses a tree-like structure to make decisions or predictions based on input features. It recursively splits the data into subsets based on the most significant feature at each node, ultimately leading to a decision or outcome. It's used for classification and regression tasks and is easy to visualize and interpret.\n"
      ]
    },
    {
      "cell_type": "code",
      "execution_count": null,
      "id": "906b9da2",
      "metadata": {
        "id": "906b9da2",
        "outputId": "46507456-a30e-42f9-b166-f7732800dff6"
      },
      "outputs": [
        {
          "data": {
            "text/html": [
              "<div>\n",
              "<style scoped>\n",
              "    .dataframe tbody tr th:only-of-type {\n",
              "        vertical-align: middle;\n",
              "    }\n",
              "\n",
              "    .dataframe tbody tr th {\n",
              "        vertical-align: top;\n",
              "    }\n",
              "\n",
              "    .dataframe thead th {\n",
              "        text-align: right;\n",
              "    }\n",
              "</style>\n",
              "<table border=\"1\" class=\"dataframe\">\n",
              "  <thead>\n",
              "    <tr style=\"text-align: right;\">\n",
              "      <th></th>\n",
              "      <th>Id</th>\n",
              "      <th>Blood Pressure</th>\n",
              "      <th>Obesity</th>\n",
              "      <th>Sex</th>\n",
              "      <th>Stroke</th>\n",
              "    </tr>\n",
              "  </thead>\n",
              "  <tbody>\n",
              "    <tr>\n",
              "      <th>0</th>\n",
              "      <td>1</td>\n",
              "      <td>H</td>\n",
              "      <td>Y</td>\n",
              "      <td>M</td>\n",
              "      <td>N</td>\n",
              "    </tr>\n",
              "    <tr>\n",
              "      <th>1</th>\n",
              "      <td>2</td>\n",
              "      <td>L</td>\n",
              "      <td>Y</td>\n",
              "      <td>M</td>\n",
              "      <td>Y</td>\n",
              "    </tr>\n",
              "    <tr>\n",
              "      <th>2</th>\n",
              "      <td>3</td>\n",
              "      <td>H</td>\n",
              "      <td>N</td>\n",
              "      <td>F</td>\n",
              "      <td>Y</td>\n",
              "    </tr>\n",
              "    <tr>\n",
              "      <th>3</th>\n",
              "      <td>4</td>\n",
              "      <td>N</td>\n",
              "      <td>Y</td>\n",
              "      <td>F</td>\n",
              "      <td>Y</td>\n",
              "    </tr>\n",
              "    <tr>\n",
              "      <th>4</th>\n",
              "      <td>5</td>\n",
              "      <td>H</td>\n",
              "      <td>Y</td>\n",
              "      <td>F</td>\n",
              "      <td>Y</td>\n",
              "    </tr>\n",
              "  </tbody>\n",
              "</table>\n",
              "</div>"
            ],
            "text/plain": [
              "   Id Blood Pressure Obesity Sex Stroke\n",
              "0   1              H       Y   M      N\n",
              "1   2              L       Y   M      Y\n",
              "2   3              H       N   F      Y\n",
              "3   4              N       Y   F      Y\n",
              "4   5              H       Y   F      Y"
            ]
          },
          "execution_count": 5,
          "metadata": {},
          "output_type": "execute_result"
        }
      ],
      "source": [
        "stroke = pd.read_csv('..\\data\\Stroke.txt', sep = ';')\n",
        "stroke.head()"
      ]
    },
    {
      "cell_type": "markdown",
      "id": "a0c42547",
      "metadata": {
        "id": "a0c42547"
      },
      "source": [
        "We need to encode the values to numerical to don't have errors when running the code"
      ]
    },
    {
      "cell_type": "code",
      "execution_count": null,
      "id": "9b99f95c",
      "metadata": {
        "id": "9b99f95c"
      },
      "outputs": [],
      "source": [
        "blood={'H': 2, 'N': 1, 'L': 0}\n",
        "obesity={'Y': 1, 'N': 0}\n",
        "sex={'M': 1, 'F': 0}\n",
        "stroke_attack={'Y': 1, 'N': 0}\n",
        "\n",
        "def encode(dic, x):\n",
        "    return dic[x]\n",
        "\n",
        "stroke['Blood2']=stroke['Blood Pressure'].apply(lambda x: blood[x])\n",
        "stroke['obesity2']=stroke['Obesity'].apply(lambda x: obesity[x])\n",
        "stroke['sex2']=stroke['Sex'].apply(lambda x: sex[x])\n",
        "stroke['stroke_attack']=stroke['Stroke'].apply(lambda x: stroke_attack[x])"
      ]
    },
    {
      "cell_type": "code",
      "execution_count": null,
      "id": "81ec7373",
      "metadata": {
        "id": "81ec7373"
      },
      "outputs": [],
      "source": [
        "X_train, X_test, y_train, y_test = train_test_split(stroke[['Blood2','obesity2','sex2']],\n",
        "                                                    stroke['stroke_attack'], train_size = 0.8, random_state = 0)\n"
      ]
    },
    {
      "cell_type": "code",
      "execution_count": null,
      "id": "2251dbcb",
      "metadata": {
        "id": "2251dbcb",
        "outputId": "85d6bba9-2239-4c28-fe70-caf99b0d9cc0"
      },
      "outputs": [
        {
          "data": {
            "text/plain": [
              "array([0.68510434, 0.30753542, 0.00736024])"
            ]
          },
          "execution_count": 13,
          "metadata": {},
          "output_type": "execute_result"
        }
      ],
      "source": [
        "classifier_DT = tree.DecisionTreeClassifier(max_depth = 3)\n",
        "classifier_DT = classifier_DT.fit(X_train, y_train)\n",
        "classifier_DT.feature_importances_"
      ]
    },
    {
      "cell_type": "code",
      "execution_count": null,
      "id": "10299fe7",
      "metadata": {
        "id": "10299fe7",
        "outputId": "8f883231-1570-44b1-e4c2-d2af487e74b3"
      },
      "outputs": [
        {
          "data": {
            "image/png": "[encoded data removed]",
            "text/plain": [
              "<Figure size 720x720 with 1 Axes>"
            ]
          },
          "metadata": {
            "needs_background": "light"
          },
          "output_type": "display_data"
        }
      ],
      "source": [
        "fig = plt.figure(figsize=(10,10))\n",
        "_ = tree.plot_tree(classifier_DT,\n",
        "                   feature_names=['Blood2','obesity2','sex2'],\n",
        "                   class_names=np.unique(y_test).astype(str),\n",
        "                   filled=True)"
      ]
    },
    {
      "cell_type": "markdown",
      "id": "3583b961",
      "metadata": {
        "id": "3583b961"
      },
      "source": [
        "## Decision tree Questions\n",
        "\n",
        " - In each square there are several indicators\n",
        "   - We want Gini to be high or low?\n",
        "   - What does mean value? Each of the numbers in those lists?\n",
        "   - Why some squares have class = 0 and others class = 1? It depends on what?\n",
        "   \n",
        " - If I am a thin man with high blood preasure, Will I have a heart stroke?"
      ]
    },
    {
      "cell_type": "markdown",
      "id": "975f6f7a",
      "metadata": {
        "id": "975f6f7a"
      },
      "source": [
        "## Random Forest\n",
        "\n",
        "Random Forest is an ensemble machine learning algorithm that combines multiple decision trees to improve predictive accuracy and reduce overfitting. It works by creating a multitude of decision trees during training and aggregating their predictions to make more robust and accurate predictions. It's widely used for classification and regression tasks and is known for its effectiveness, versatility, and resistance to overfitting.\n",
        "\n",
        "\n",
        "\n",
        "\n"
      ]
    },
    {
      "cell_type": "markdown",
      "id": "a2c08bce",
      "metadata": {
        "id": "a2c08bce"
      },
      "source": [
        "The Random Forest algorithm, as its name suggests, uses a set of trees to classify observations.\n",
        "\n",
        "The idea is to generate multiple trees (multiple models). But when we have a new individual to classify, which tree do we use? What is the correct classification?\n",
        "\n",
        "The new individual will be passed through all the trees that make up the forest. Each tree will provide a verdict and classify this new observation as class 1 or 0. Then, a vote will be taken, and the class chosen by the majority of the trees in the ensemble will be the final decision of the algorithm.\n",
        "\n",
        "A random set of observations will be selected to train each of the trees of the forest, with replacement. This means that some observations may appear multiple times, while others may not appear at all in the training set. This is done to increase the training dataset's diversity.\n",
        "\n",
        "Since each tree is trained with a different training dataset, different variables/features will be selected as the most significant to be part of each of the trees (Feature Bagging).\n",
        "\n",
        "\n",
        "https://www.youtube.com/watch?v=J4Wdy0Wc_xQ\n",
        "\n",
        "https://www.quantstart.com/articles/bootstrap-aggregation-random-forests-and-boosted-trees/\n",
        "\n",
        "https://immune.institute/blog/metodos-de-bagging-y-de-boosting-diferencia/"
      ]
    },
    {
      "cell_type": "code",
      "execution_count": null,
      "id": "2dff50b3",
      "metadata": {
        "id": "2dff50b3"
      },
      "outputs": [],
      "source": [
        "dolphins = pd.read_csv('..\\data\\Dolphnis.txt', sep = ';')"
      ]
    },
    {
      "cell_type": "code",
      "execution_count": null,
      "id": "56c1b99b",
      "metadata": {
        "id": "56c1b99b",
        "outputId": "bef318e1-4c24-4ff0-9efc-6e731b8b00b7"
      },
      "outputs": [
        {
          "data": {
            "text/html": [
              "<div>\n",
              "<style scoped>\n",
              "    .dataframe tbody tr th:only-of-type {\n",
              "        vertical-align: middle;\n",
              "    }\n",
              "\n",
              "    .dataframe tbody tr th {\n",
              "        vertical-align: top;\n",
              "    }\n",
              "\n",
              "    .dataframe thead th {\n",
              "        text-align: right;\n",
              "    }\n",
              "</style>\n",
              "<table border=\"1\" class=\"dataframe\">\n",
              "  <thead>\n",
              "    <tr style=\"text-align: right;\">\n",
              "      <th></th>\n",
              "      <th>Id</th>\n",
              "      <th>Length</th>\n",
              "      <th>Gills</th>\n",
              "      <th>Beak</th>\n",
              "      <th>Teeth</th>\n",
              "      <th>Dolphin</th>\n",
              "      <th>Gills2</th>\n",
              "      <th>Beak2</th>\n",
              "      <th>Teeth2</th>\n",
              "      <th>Dolphin2</th>\n",
              "    </tr>\n",
              "  </thead>\n",
              "  <tbody>\n",
              "    <tr>\n",
              "      <th>0</th>\n",
              "      <td>1</td>\n",
              "      <td>3</td>\n",
              "      <td>Y</td>\n",
              "      <td>Y</td>\n",
              "      <td>F</td>\n",
              "      <td>Y</td>\n",
              "      <td>1</td>\n",
              "      <td>1</td>\n",
              "      <td>0</td>\n",
              "      <td>1</td>\n",
              "    </tr>\n",
              "    <tr>\n",
              "      <th>1</th>\n",
              "      <td>2</td>\n",
              "      <td>3</td>\n",
              "      <td>N</td>\n",
              "      <td>N</td>\n",
              "      <td>F</td>\n",
              "      <td>Y</td>\n",
              "      <td>0</td>\n",
              "      <td>0</td>\n",
              "      <td>0</td>\n",
              "      <td>1</td>\n",
              "    </tr>\n",
              "    <tr>\n",
              "      <th>2</th>\n",
              "      <td>3</td>\n",
              "      <td>3</td>\n",
              "      <td>N</td>\n",
              "      <td>N</td>\n",
              "      <td>F</td>\n",
              "      <td>Y</td>\n",
              "      <td>0</td>\n",
              "      <td>0</td>\n",
              "      <td>0</td>\n",
              "      <td>1</td>\n",
              "    </tr>\n",
              "    <tr>\n",
              "      <th>3</th>\n",
              "      <td>4</td>\n",
              "      <td>3</td>\n",
              "      <td>Y</td>\n",
              "      <td>Y</td>\n",
              "      <td>F</td>\n",
              "      <td>Y</td>\n",
              "      <td>1</td>\n",
              "      <td>1</td>\n",
              "      <td>0</td>\n",
              "      <td>1</td>\n",
              "    </tr>\n",
              "    <tr>\n",
              "      <th>4</th>\n",
              "      <td>5</td>\n",
              "      <td>3</td>\n",
              "      <td>N</td>\n",
              "      <td>Y</td>\n",
              "      <td>F</td>\n",
              "      <td>Y</td>\n",
              "      <td>0</td>\n",
              "      <td>1</td>\n",
              "      <td>0</td>\n",
              "      <td>1</td>\n",
              "    </tr>\n",
              "    <tr>\n",
              "      <th>...</th>\n",
              "      <td>...</td>\n",
              "      <td>...</td>\n",
              "      <td>...</td>\n",
              "      <td>...</td>\n",
              "      <td>...</td>\n",
              "      <td>...</td>\n",
              "      <td>...</td>\n",
              "      <td>...</td>\n",
              "      <td>...</td>\n",
              "      <td>...</td>\n",
              "    </tr>\n",
              "    <tr>\n",
              "      <th>266</th>\n",
              "      <td>267</td>\n",
              "      <td>3</td>\n",
              "      <td>Y</td>\n",
              "      <td>Y</td>\n",
              "      <td>F</td>\n",
              "      <td>Y</td>\n",
              "      <td>1</td>\n",
              "      <td>1</td>\n",
              "      <td>0</td>\n",
              "      <td>1</td>\n",
              "    </tr>\n",
              "    <tr>\n",
              "      <th>267</th>\n",
              "      <td>268</td>\n",
              "      <td>4</td>\n",
              "      <td>Y</td>\n",
              "      <td>N</td>\n",
              "      <td>F</td>\n",
              "      <td>Y</td>\n",
              "      <td>1</td>\n",
              "      <td>0</td>\n",
              "      <td>0</td>\n",
              "      <td>1</td>\n",
              "    </tr>\n",
              "    <tr>\n",
              "      <th>268</th>\n",
              "      <td>269</td>\n",
              "      <td>3</td>\n",
              "      <td>Y</td>\n",
              "      <td>Y</td>\n",
              "      <td>F</td>\n",
              "      <td>Y</td>\n",
              "      <td>1</td>\n",
              "      <td>1</td>\n",
              "      <td>0</td>\n",
              "      <td>1</td>\n",
              "    </tr>\n",
              "    <tr>\n",
              "      <th>269</th>\n",
              "      <td>270</td>\n",
              "      <td>4</td>\n",
              "      <td>Y</td>\n",
              "      <td>Y</td>\n",
              "      <td>F</td>\n",
              "      <td>Y</td>\n",
              "      <td>1</td>\n",
              "      <td>1</td>\n",
              "      <td>0</td>\n",
              "      <td>1</td>\n",
              "    </tr>\n",
              "    <tr>\n",
              "      <th>270</th>\n",
              "      <td>271</td>\n",
              "      <td>3</td>\n",
              "      <td>Y</td>\n",
              "      <td>N</td>\n",
              "      <td>F</td>\n",
              "      <td>Y</td>\n",
              "      <td>1</td>\n",
              "      <td>0</td>\n",
              "      <td>0</td>\n",
              "      <td>1</td>\n",
              "    </tr>\n",
              "  </tbody>\n",
              "</table>\n",
              "<p>271 rows × 10 columns</p>\n",
              "</div>"
            ],
            "text/plain": [
              "      Id  Length Gills Beak Teeth Dolphin  Gills2  Beak2  Teeth2  Dolphin2\n",
              "0      1       3     Y    Y     F       Y       1      1       0         1\n",
              "1      2       3     N    N     F       Y       0      0       0         1\n",
              "2      3       3     N    N     F       Y       0      0       0         1\n",
              "3      4       3     Y    Y     F       Y       1      1       0         1\n",
              "4      5       3     N    Y     F       Y       0      1       0         1\n",
              "..   ...     ...   ...  ...   ...     ...     ...    ...     ...       ...\n",
              "266  267       3     Y    Y     F       Y       1      1       0         1\n",
              "267  268       4     Y    N     F       Y       1      0       0         1\n",
              "268  269       3     Y    Y     F       Y       1      1       0         1\n",
              "269  270       4     Y    Y     F       Y       1      1       0         1\n",
              "270  271       3     Y    N     F       Y       1      0       0         1\n",
              "\n",
              "[271 rows x 10 columns]"
            ]
          },
          "execution_count": 19,
          "metadata": {},
          "output_type": "execute_result"
        }
      ],
      "source": [
        "Gills={'Y': 1, 'N': 0}\n",
        "Beak={'Y': 1, 'N': 0}\n",
        "Teeth={'M': 1, 'F': 0}\n",
        "Dolphin={'Y': 1, 'N': 0}\n",
        "\n",
        "def encode(dic, x):\n",
        "    return dic[x]\n",
        "\n",
        "dolphins['Gills2']=dolphins['Gills'].apply(lambda x: Gills[x])\n",
        "dolphins['Beak2']=dolphins['Beak'].apply(lambda x: Beak[x])\n",
        "dolphins['Teeth2']=dolphins['Teeth'].apply(lambda x: Teeth[x])\n",
        "dolphins['Dolphin2']=dolphins['Dolphin'].apply(lambda x: Dolphin[x])\n",
        "dolphins"
      ]
    },
    {
      "cell_type": "code",
      "execution_count": null,
      "id": "fdd2f91b",
      "metadata": {
        "scrolled": true,
        "id": "fdd2f91b",
        "outputId": "d37c3846-081f-44a7-ce06-26b1bc2e8242"
      },
      "outputs": [
        {
          "data": {
            "text/plain": [
              "(109, 4)"
            ]
          },
          "execution_count": 20,
          "metadata": {},
          "output_type": "execute_result"
        }
      ],
      "source": [
        "X_train, X_test, y_train, y_test = train_test_split(dolphins[['Gills2','Beak2','Teeth2','Length']],\n",
        "                                                    dolphins['Dolphin2'], train_size = 0.60, random_state = 0)\n",
        "X_test.shape"
      ]
    },
    {
      "cell_type": "code",
      "execution_count": null,
      "id": "1cf57533",
      "metadata": {
        "id": "1cf57533"
      },
      "outputs": [],
      "source": [
        "rf_clf = RandomForestClassifier(n_estimators = 3, criterion ='gini') #  criterion ='entropy'\n",
        "rf_clf.fit(X_train,y_train)\n",
        "\n",
        "y_predict = rf_clf.predict(X_test)"
      ]
    },
    {
      "cell_type": "code",
      "execution_count": null,
      "id": "cecc6cdb",
      "metadata": {
        "id": "cecc6cdb",
        "outputId": "9d1ab9ba-fc8f-482e-a0e3-302a6d91b7bf"
      },
      "outputs": [
        {
          "name": "stdout",
          "output_type": "stream",
          "text": [
            "Train set score (Accuracy) = 0.821\n",
            "Test set score (Accuracy) = 0.8257\n",
            "╒══════════════════╤═══════════════════╤════════════════════╕\n",
            "│                  │   pred Dolphin No │   pred Dolphin Yes │\n",
            "╞══════════════════╪═══════════════════╪════════════════════╡\n",
            "│ real Dolphin No  │                44 │                  6 │\n",
            "├──────────────────┼───────────────────┼────────────────────┤\n",
            "│ real Dolphin Yes │                13 │                 46 │\n",
            "╘══════════════════╧═══════════════════╧════════════════════╛\n",
            "              precision    recall  f1-score   support\n",
            "\n",
            "           0       0.77      0.88      0.82        50\n",
            "           1       0.88      0.78      0.83        59\n",
            "\n",
            "    accuracy                           0.83       109\n",
            "   macro avg       0.83      0.83      0.83       109\n",
            "weighted avg       0.83      0.83      0.83       109\n",
            "\n"
          ]
        }
      ],
      "source": [
        "print(\"Train set score (Accuracy) =\", rf_clf.score(X_train, y_train).round(4))\n",
        "print(\"Test set score (Accuracy) =\", rf_clf.score(X_test, y_test).round(4))\n",
        "\n",
        "conf_mat = confusion_matrix(y_test, rf_clf.predict(X_test))\n",
        "print(tabulate(conf_mat,headers = ['pred Dolphin No','pred Dolphin Yes'], showindex = ['real Dolphin No','real Dolphin Yes'], tablefmt = 'fancy_grid'))\n",
        "\n",
        "print(classification_report(y_test, rf_clf.predict(X_test)))"
      ]
    },
    {
      "cell_type": "markdown",
      "id": "5470ad93",
      "metadata": {
        "id": "5470ad93"
      },
      "source": [
        "## Confussion Matrix Questions\n",
        "\n",
        "1)Looking at the accuracy, would you confirm this model is accurate? Is it usefull for cataloguing sea animals as dolphins? Why?\n",
        "\n",
        "2)Answer True or False:\n",
        "\n",
        " - From all the sea animals in our dataset 88% of them were correctly classified\n",
        " - 88% of the sea animals predicted as dolphins were, finally, dolphins and not other animals\n",
        " - 22% of the dolphins were classified as other sea animal (No Dolphin)\n",
        "\n",
        "3)Replicate the calculation of the:\n",
        " - Accuracy\n",
        " - Recall of positive dolphins\n",
        " - Precision of positive dolphins\n"
      ]
    },
    {
      "cell_type": "markdown",
      "id": "4153eef3",
      "metadata": {
        "id": "4153eef3"
      },
      "source": [
        "## Logistic Regression\n",
        "\n",
        "It calculates the probability of an instance belonging to a particular class. Like in linear regression it estimates several coeficients to make the classifications\n",
        "\n",
        "https://www.youtube.com/watch?v=yIYKR4sgzI8&list=PLblh5JKOoLUKxzEP5HA2d-Li7IJkHfXSe\n",
        "\n",
        "https://es.wikipedia.org/wiki/Regresi%C3%B3n_log%C3%ADstica\n",
        "\n",
        "https://datascientest.com/es/que-es-la-regresion-logistica"
      ]
    },
    {
      "cell_type": "code",
      "execution_count": null,
      "id": "60ad552a",
      "metadata": {
        "scrolled": true,
        "id": "60ad552a",
        "outputId": "b4ddb59b-8ac6-4af7-9927-3dc429fea744"
      },
      "outputs": [
        {
          "data": {
            "text/html": [
              "<div>\n",
              "<style scoped>\n",
              "    .dataframe tbody tr th:only-of-type {\n",
              "        vertical-align: middle;\n",
              "    }\n",
              "\n",
              "    .dataframe tbody tr th {\n",
              "        vertical-align: top;\n",
              "    }\n",
              "\n",
              "    .dataframe thead th {\n",
              "        text-align: right;\n",
              "    }\n",
              "</style>\n",
              "<table border=\"1\" class=\"dataframe\">\n",
              "  <thead>\n",
              "    <tr style=\"text-align: right;\">\n",
              "      <th></th>\n",
              "      <th>id</th>\n",
              "      <th>diagnosis</th>\n",
              "      <th>radius_mean</th>\n",
              "      <th>texture_mean</th>\n",
              "      <th>perimeter_mean</th>\n",
              "      <th>area_mean</th>\n",
              "      <th>smoothness_mean</th>\n",
              "      <th>compactness_mean</th>\n",
              "      <th>concavity_mean</th>\n",
              "      <th>concave points_mean</th>\n",
              "      <th>...</th>\n",
              "      <th>radius_worst</th>\n",
              "      <th>texture_worst</th>\n",
              "      <th>perimeter_worst</th>\n",
              "      <th>area_worst</th>\n",
              "      <th>smoothness_worst</th>\n",
              "      <th>compactness_worst</th>\n",
              "      <th>concavity_worst</th>\n",
              "      <th>concave points_worst</th>\n",
              "      <th>symmetry_worst</th>\n",
              "      <th>fractal_dimension_worst</th>\n",
              "    </tr>\n",
              "  </thead>\n",
              "  <tbody>\n",
              "    <tr>\n",
              "      <th>0</th>\n",
              "      <td>842302</td>\n",
              "      <td>M</td>\n",
              "      <td>17.99</td>\n",
              "      <td>10.38</td>\n",
              "      <td>122.80</td>\n",
              "      <td>1001.0</td>\n",
              "      <td>0.11840</td>\n",
              "      <td>0.27760</td>\n",
              "      <td>0.30010</td>\n",
              "      <td>0.14710</td>\n",
              "      <td>...</td>\n",
              "      <td>25.380</td>\n",
              "      <td>17.33</td>\n",
              "      <td>184.60</td>\n",
              "      <td>2019.0</td>\n",
              "      <td>0.16220</td>\n",
              "      <td>0.66560</td>\n",
              "      <td>0.7119</td>\n",
              "      <td>0.2654</td>\n",
              "      <td>0.4601</td>\n",
              "      <td>0.11890</td>\n",
              "    </tr>\n",
              "    <tr>\n",
              "      <th>1</th>\n",
              "      <td>842517</td>\n",
              "      <td>M</td>\n",
              "      <td>20.57</td>\n",
              "      <td>17.77</td>\n",
              "      <td>132.90</td>\n",
              "      <td>1326.0</td>\n",
              "      <td>0.08474</td>\n",
              "      <td>0.07864</td>\n",
              "      <td>0.08690</td>\n",
              "      <td>0.07017</td>\n",
              "      <td>...</td>\n",
              "      <td>24.990</td>\n",
              "      <td>23.41</td>\n",
              "      <td>158.80</td>\n",
              "      <td>1956.0</td>\n",
              "      <td>0.12380</td>\n",
              "      <td>0.18660</td>\n",
              "      <td>0.2416</td>\n",
              "      <td>0.1860</td>\n",
              "      <td>0.2750</td>\n",
              "      <td>0.08902</td>\n",
              "    </tr>\n",
              "    <tr>\n",
              "      <th>2</th>\n",
              "      <td>84300903</td>\n",
              "      <td>M</td>\n",
              "      <td>19.69</td>\n",
              "      <td>21.25</td>\n",
              "      <td>130.00</td>\n",
              "      <td>1203.0</td>\n",
              "      <td>0.10960</td>\n",
              "      <td>0.15990</td>\n",
              "      <td>0.19740</td>\n",
              "      <td>0.12790</td>\n",
              "      <td>...</td>\n",
              "      <td>23.570</td>\n",
              "      <td>25.53</td>\n",
              "      <td>152.50</td>\n",
              "      <td>1709.0</td>\n",
              "      <td>0.14440</td>\n",
              "      <td>0.42450</td>\n",
              "      <td>0.4504</td>\n",
              "      <td>0.2430</td>\n",
              "      <td>0.3613</td>\n",
              "      <td>0.08758</td>\n",
              "    </tr>\n",
              "    <tr>\n",
              "      <th>3</th>\n",
              "      <td>84348301</td>\n",
              "      <td>M</td>\n",
              "      <td>11.42</td>\n",
              "      <td>20.38</td>\n",
              "      <td>77.58</td>\n",
              "      <td>386.1</td>\n",
              "      <td>0.14250</td>\n",
              "      <td>0.28390</td>\n",
              "      <td>0.24140</td>\n",
              "      <td>0.10520</td>\n",
              "      <td>...</td>\n",
              "      <td>14.910</td>\n",
              "      <td>26.50</td>\n",
              "      <td>98.87</td>\n",
              "      <td>567.7</td>\n",
              "      <td>0.20980</td>\n",
              "      <td>0.86630</td>\n",
              "      <td>0.6869</td>\n",
              "      <td>0.2575</td>\n",
              "      <td>0.6638</td>\n",
              "      <td>0.17300</td>\n",
              "    </tr>\n",
              "    <tr>\n",
              "      <th>4</th>\n",
              "      <td>84358402</td>\n",
              "      <td>M</td>\n",
              "      <td>20.29</td>\n",
              "      <td>14.34</td>\n",
              "      <td>135.10</td>\n",
              "      <td>1297.0</td>\n",
              "      <td>0.10030</td>\n",
              "      <td>0.13280</td>\n",
              "      <td>0.19800</td>\n",
              "      <td>0.10430</td>\n",
              "      <td>...</td>\n",
              "      <td>22.540</td>\n",
              "      <td>16.67</td>\n",
              "      <td>152.20</td>\n",
              "      <td>1575.0</td>\n",
              "      <td>0.13740</td>\n",
              "      <td>0.20500</td>\n",
              "      <td>0.4000</td>\n",
              "      <td>0.1625</td>\n",
              "      <td>0.2364</td>\n",
              "      <td>0.07678</td>\n",
              "    </tr>\n",
              "    <tr>\n",
              "      <th>...</th>\n",
              "      <td>...</td>\n",
              "      <td>...</td>\n",
              "      <td>...</td>\n",
              "      <td>...</td>\n",
              "      <td>...</td>\n",
              "      <td>...</td>\n",
              "      <td>...</td>\n",
              "      <td>...</td>\n",
              "      <td>...</td>\n",
              "      <td>...</td>\n",
              "      <td>...</td>\n",
              "      <td>...</td>\n",
              "      <td>...</td>\n",
              "      <td>...</td>\n",
              "      <td>...</td>\n",
              "      <td>...</td>\n",
              "      <td>...</td>\n",
              "      <td>...</td>\n",
              "      <td>...</td>\n",
              "      <td>...</td>\n",
              "      <td>...</td>\n",
              "    </tr>\n",
              "    <tr>\n",
              "      <th>564</th>\n",
              "      <td>926424</td>\n",
              "      <td>M</td>\n",
              "      <td>21.56</td>\n",
              "      <td>22.39</td>\n",
              "      <td>142.00</td>\n",
              "      <td>1479.0</td>\n",
              "      <td>0.11100</td>\n",
              "      <td>0.11590</td>\n",
              "      <td>0.24390</td>\n",
              "      <td>0.13890</td>\n",
              "      <td>...</td>\n",
              "      <td>25.450</td>\n",
              "      <td>26.40</td>\n",
              "      <td>166.10</td>\n",
              "      <td>2027.0</td>\n",
              "      <td>0.14100</td>\n",
              "      <td>0.21130</td>\n",
              "      <td>0.4107</td>\n",
              "      <td>0.2216</td>\n",
              "      <td>0.2060</td>\n",
              "      <td>0.07115</td>\n",
              "    </tr>\n",
              "    <tr>\n",
              "      <th>565</th>\n",
              "      <td>926682</td>\n",
              "      <td>M</td>\n",
              "      <td>20.13</td>\n",
              "      <td>28.25</td>\n",
              "      <td>131.20</td>\n",
              "      <td>1261.0</td>\n",
              "      <td>0.09780</td>\n",
              "      <td>0.10340</td>\n",
              "      <td>0.14400</td>\n",
              "      <td>0.09791</td>\n",
              "      <td>...</td>\n",
              "      <td>23.690</td>\n",
              "      <td>38.25</td>\n",
              "      <td>155.00</td>\n",
              "      <td>1731.0</td>\n",
              "      <td>0.11660</td>\n",
              "      <td>0.19220</td>\n",
              "      <td>0.3215</td>\n",
              "      <td>0.1628</td>\n",
              "      <td>0.2572</td>\n",
              "      <td>0.06637</td>\n",
              "    </tr>\n",
              "    <tr>\n",
              "      <th>566</th>\n",
              "      <td>926954</td>\n",
              "      <td>M</td>\n",
              "      <td>16.60</td>\n",
              "      <td>28.08</td>\n",
              "      <td>108.30</td>\n",
              "      <td>858.1</td>\n",
              "      <td>0.08455</td>\n",
              "      <td>0.10230</td>\n",
              "      <td>0.09251</td>\n",
              "      <td>0.05302</td>\n",
              "      <td>...</td>\n",
              "      <td>18.980</td>\n",
              "      <td>34.12</td>\n",
              "      <td>126.70</td>\n",
              "      <td>1124.0</td>\n",
              "      <td>0.11390</td>\n",
              "      <td>0.30940</td>\n",
              "      <td>0.3403</td>\n",
              "      <td>0.1418</td>\n",
              "      <td>0.2218</td>\n",
              "      <td>0.07820</td>\n",
              "    </tr>\n",
              "    <tr>\n",
              "      <th>567</th>\n",
              "      <td>927241</td>\n",
              "      <td>M</td>\n",
              "      <td>20.60</td>\n",
              "      <td>29.33</td>\n",
              "      <td>140.10</td>\n",
              "      <td>1265.0</td>\n",
              "      <td>0.11780</td>\n",
              "      <td>0.27700</td>\n",
              "      <td>0.35140</td>\n",
              "      <td>0.15200</td>\n",
              "      <td>...</td>\n",
              "      <td>25.740</td>\n",
              "      <td>39.42</td>\n",
              "      <td>184.60</td>\n",
              "      <td>1821.0</td>\n",
              "      <td>0.16500</td>\n",
              "      <td>0.86810</td>\n",
              "      <td>0.9387</td>\n",
              "      <td>0.2650</td>\n",
              "      <td>0.4087</td>\n",
              "      <td>0.12400</td>\n",
              "    </tr>\n",
              "    <tr>\n",
              "      <th>568</th>\n",
              "      <td>92751</td>\n",
              "      <td>B</td>\n",
              "      <td>7.76</td>\n",
              "      <td>24.54</td>\n",
              "      <td>47.92</td>\n",
              "      <td>181.0</td>\n",
              "      <td>0.05263</td>\n",
              "      <td>0.04362</td>\n",
              "      <td>0.00000</td>\n",
              "      <td>0.00000</td>\n",
              "      <td>...</td>\n",
              "      <td>9.456</td>\n",
              "      <td>30.37</td>\n",
              "      <td>59.16</td>\n",
              "      <td>268.6</td>\n",
              "      <td>0.08996</td>\n",
              "      <td>0.06444</td>\n",
              "      <td>0.0000</td>\n",
              "      <td>0.0000</td>\n",
              "      <td>0.2871</td>\n",
              "      <td>0.07039</td>\n",
              "    </tr>\n",
              "  </tbody>\n",
              "</table>\n",
              "<p>569 rows × 32 columns</p>\n",
              "</div>"
            ],
            "text/plain": [
              "           id diagnosis  radius_mean  texture_mean  perimeter_mean  area_mean  \\\n",
              "0      842302         M        17.99         10.38          122.80     1001.0   \n",
              "1      842517         M        20.57         17.77          132.90     1326.0   \n",
              "2    84300903         M        19.69         21.25          130.00     1203.0   \n",
              "3    84348301         M        11.42         20.38           77.58      386.1   \n",
              "4    84358402         M        20.29         14.34          135.10     1297.0   \n",
              "..        ...       ...          ...           ...             ...        ...   \n",
              "564    926424         M        21.56         22.39          142.00     1479.0   \n",
              "565    926682         M        20.13         28.25          131.20     1261.0   \n",
              "566    926954         M        16.60         28.08          108.30      858.1   \n",
              "567    927241         M        20.60         29.33          140.10     1265.0   \n",
              "568     92751         B         7.76         24.54           47.92      181.0   \n",
              "\n",
              "     smoothness_mean  compactness_mean  concavity_mean  concave points_mean  \\\n",
              "0            0.11840           0.27760         0.30010              0.14710   \n",
              "1            0.08474           0.07864         0.08690              0.07017   \n",
              "2            0.10960           0.15990         0.19740              0.12790   \n",
              "3            0.14250           0.28390         0.24140              0.10520   \n",
              "4            0.10030           0.13280         0.19800              0.10430   \n",
              "..               ...               ...             ...                  ...   \n",
              "564          0.11100           0.11590         0.24390              0.13890   \n",
              "565          0.09780           0.10340         0.14400              0.09791   \n",
              "566          0.08455           0.10230         0.09251              0.05302   \n",
              "567          0.11780           0.27700         0.35140              0.15200   \n",
              "568          0.05263           0.04362         0.00000              0.00000   \n",
              "\n",
              "     ...  radius_worst  texture_worst  perimeter_worst  area_worst  \\\n",
              "0    ...        25.380          17.33           184.60      2019.0   \n",
              "1    ...        24.990          23.41           158.80      1956.0   \n",
              "2    ...        23.570          25.53           152.50      1709.0   \n",
              "3    ...        14.910          26.50            98.87       567.7   \n",
              "4    ...        22.540          16.67           152.20      1575.0   \n",
              "..   ...           ...            ...              ...         ...   \n",
              "564  ...        25.450          26.40           166.10      2027.0   \n",
              "565  ...        23.690          38.25           155.00      1731.0   \n",
              "566  ...        18.980          34.12           126.70      1124.0   \n",
              "567  ...        25.740          39.42           184.60      1821.0   \n",
              "568  ...         9.456          30.37            59.16       268.6   \n",
              "\n",
              "     smoothness_worst  compactness_worst  concavity_worst  \\\n",
              "0             0.16220            0.66560           0.7119   \n",
              "1             0.12380            0.18660           0.2416   \n",
              "2             0.14440            0.42450           0.4504   \n",
              "3             0.20980            0.86630           0.6869   \n",
              "4             0.13740            0.20500           0.4000   \n",
              "..                ...                ...              ...   \n",
              "564           0.14100            0.21130           0.4107   \n",
              "565           0.11660            0.19220           0.3215   \n",
              "566           0.11390            0.30940           0.3403   \n",
              "567           0.16500            0.86810           0.9387   \n",
              "568           0.08996            0.06444           0.0000   \n",
              "\n",
              "     concave points_worst  symmetry_worst  fractal_dimension_worst  \n",
              "0                  0.2654          0.4601                  0.11890  \n",
              "1                  0.1860          0.2750                  0.08902  \n",
              "2                  0.2430          0.3613                  0.08758  \n",
              "3                  0.2575          0.6638                  0.17300  \n",
              "4                  0.1625          0.2364                  0.07678  \n",
              "..                    ...             ...                      ...  \n",
              "564                0.2216          0.2060                  0.07115  \n",
              "565                0.1628          0.2572                  0.06637  \n",
              "566                0.1418          0.2218                  0.07820  \n",
              "567                0.2650          0.4087                  0.12400  \n",
              "568                0.0000          0.2871                  0.07039  \n",
              "\n",
              "[569 rows x 32 columns]"
            ]
          },
          "execution_count": 30,
          "metadata": {},
          "output_type": "execute_result"
        }
      ],
      "source": [
        "cancer = pd.read_csv('../data/breast_cancer.txt', sep = ';')\n",
        "cancer"
      ]
    },
    {
      "cell_type": "code",
      "execution_count": null,
      "id": "0496f0f9",
      "metadata": {
        "id": "0496f0f9"
      },
      "outputs": [],
      "source": [
        "diagnosis={'M': 1, 'B': 0}\n",
        "\n",
        "def encode(dic, x):\n",
        "    return dic[x]\n",
        "\n",
        "cancer['diagnosis2']=cancer['diagnosis'].apply(lambda x: diagnosis[x])\n",
        "\n",
        "X = cancer.drop(columns=['id','diagnosis'])\n",
        "X = cancer[['smoothness_mean','compactness_mean']]\n",
        "y = cancer['diagnosis2']\n",
        "\n",
        "X_train, X_test, y_train, y_test = train_test_split(X, y, train_size = 0.8, random_state=42)\n"
      ]
    },
    {
      "cell_type": "code",
      "execution_count": null,
      "id": "bdb74f74",
      "metadata": {
        "id": "bdb74f74",
        "outputId": "6f6a4ad6-f4a9-4822-f746-2f912e682f69"
      },
      "outputs": [
        {
          "name": "stdout",
          "output_type": "stream",
          "text": [
            "[-1.15717582]\n",
            "[[0.85635674 5.21828998]]\n"
          ]
        }
      ],
      "source": [
        "model_LR = LogisticRegression()\n",
        "model_LR.fit(X_train, y_train)\n",
        "\n",
        "print(model_LR.intercept_)\n",
        "print(model_LR.coef_)"
      ]
    },
    {
      "cell_type": "code",
      "execution_count": null,
      "id": "7ec96880",
      "metadata": {
        "id": "7ec96880",
        "outputId": "4c737b53-0bf8-4ad2-8f74-3b210ef4a937"
      },
      "outputs": [
        {
          "name": "stdout",
          "output_type": "stream",
          "text": [
            "Train set score (Accuracy) = 0.6681\n",
            "Test set score (Accuracy) = 0.6842\n",
            "╒═════════════════╤══════════════════╤═══════════════════╕\n",
            "│                 │   pred cancer No │   pred cancer Yes │\n",
            "╞═════════════════╪══════════════════╪═══════════════════╡\n",
            "│ real cancer No  │               71 │                 0 │\n",
            "├─────────────────┼──────────────────┼───────────────────┤\n",
            "│ real cancer Yes │               36 │                 7 │\n",
            "╘═════════════════╧══════════════════╧═══════════════════╛\n",
            "              precision    recall  f1-score   support\n",
            "\n",
            "           0       0.66      1.00      0.80        71\n",
            "           1       1.00      0.16      0.28        43\n",
            "\n",
            "    accuracy                           0.68       114\n",
            "   macro avg       0.83      0.58      0.54       114\n",
            "weighted avg       0.79      0.68      0.60       114\n",
            "\n"
          ]
        }
      ],
      "source": [
        "print(\"Train set score (Accuracy) =\", model_LR.score(X_train, y_train).round(4))\n",
        "print(\"Test set score (Accuracy) =\", model_LR.score(X_test, y_test).round(4))\n",
        "\n",
        "conf_mat = confusion_matrix(y_test, model_LR.predict(X_test))\n",
        "print(tabulate(conf_mat,headers = ['pred cancer No','pred cancer Yes'], showindex = ['real cancer No','real cancer Yes'], tablefmt = 'fancy_grid'))\n",
        "\n",
        "print(classification_report(y_test, model_LR.predict(X_test)))"
      ]
    },
    {
      "cell_type": "markdown",
      "id": "bedcdca8",
      "metadata": {
        "id": "bedcdca8"
      },
      "source": [
        "## Confussion Matrix Questions 2\n",
        "\n",
        "- In your opinion, is this model accurate?\n",
        "- Every individual predicted as Cancer equal to Yes has been correctly classified? Is this realistic? Is the rest of indicators as good as the precision?\n",
        "- If not, Why? What do you would do to train a better model?\n"
      ]
    },
    {
      "cell_type": "markdown",
      "id": "e0452b98",
      "metadata": {
        "id": "e0452b98"
      },
      "source": [
        "# Questions recapitulation\n",
        "----------------------------------------------------------------------\n",
        "## Decision tree Questions\n",
        "\n",
        " - In each square there are several indicators\n",
        "   - We want Gini to be high or low?\n",
        "   - What does mean value? Each of the numbers in those lists?\n",
        "   - Why some squares have class = 0 and others class = 1? It depends on what?\n",
        "   \n",
        " - If I am a thin man with high blood preasure, Will I have a heart stroke?\n",
        "\n",
        "\n",
        "## Confussion Matrix Questions\n",
        "\n",
        "1)Looking at the accuracy, would you confirm this model is accurate? Is it usefull for cataloguing sea animals as dolphins? Why?\n",
        "\n",
        "2)Answer True or False:\n",
        "\n",
        " - From all the sea animals in our dataset 88% of them were correctly classified\n",
        " - 88% of the sea animals predicted as dolphins were, finally, dolphins and not other animals\n",
        " - 22% of the dolphins were classified as other sea animal (No Dolphin)\n",
        "\n",
        "3)Replicate the calculation of the:\n",
        " - Accuracy\n",
        " - Recall of positive dolphins\n",
        " - Precision of positive dolphins\n",
        "\n",
        "\n",
        "## Confussion Matrix Questions 2\n",
        "\n",
        "- In your opinion, is this model accurate?\n",
        "- Every individual predicted as Cancer equal to Yes has been correctly classified? Is this realistic? Is the rest of indicators as good as the precision?\n",
        "- If not, Why? What do you would do to train a better model?"
      ]
    },
    {
      "cell_type": "markdown",
      "source": [
        "El gini cuanto mas cercano a 0 mejor, ya que indica mayor pureza"
      ],
      "metadata": {
        "id": "OMps0dphlUE6"
      },
      "id": "OMps0dphlUE6"
    },
    {
      "cell_type": "markdown",
      "source": [
        "Al valor promedio de una variable numérica dentro de un conjunto específico de puntos de datos."
      ],
      "metadata": {
        "id": "bIts0eSCmDdm"
      },
      "id": "bIts0eSCmDdm"
    },
    {
      "cell_type": "markdown",
      "source": [
        "Le asignamos a cada clase un valor 0 o 1, no tiene por que ser una 0 y otra 1, pueden ser la inversa, simplemente nos sirve para trabajar con valores numericos en caso de tener categoricos"
      ],
      "metadata": {
        "id": "EMuWs4cvmDUk"
      },
      "id": "EMuWs4cvmDUk"
    },
    {
      "cell_type": "markdown",
      "source": [
        "tendras mas probabilidades, pero no tiene porque"
      ],
      "metadata": {
        "id": "V2N4lZHPqlAQ"
      },
      "id": "V2N4lZHPqlAQ"
    },
    {
      "cell_type": "markdown",
      "source": [
        "Con una precision mayor al 80% es una buena precision para un modelo de clasificacion, diria que si nos sirve\n",
        "\n"
      ],
      "metadata": {
        "id": "25SGzj1MmDDk"
      },
      "id": "25SGzj1MmDDk"
    },
    {
      "cell_type": "markdown",
      "source": [
        "1- falso, 2- verdadero, 3- verdadero"
      ],
      "metadata": {
        "id": "8JV9k74uo-lE"
      },
      "id": "8JV9k74uo-lE"
    },
    {
      "cell_type": "markdown",
      "source": [
        "Acc: 82% recall of positive dolphins: 0.78, precission of positive: 0.88%"
      ],
      "metadata": {
        "id": "gruj4zo7qWIm"
      },
      "id": "gruj4zo7qWIm"
    },
    {
      "cell_type": "markdown",
      "source": [
        "con una precision por debajo del 70% no consideraria el modelo muy preciso, tiene mucho error"
      ],
      "metadata": {
        "id": "uaK1MufVr0Cx"
      },
      "id": "uaK1MufVr0Cx"
    },
    {
      "cell_type": "markdown",
      "source": [
        "si, puede ser realista dependiendo que se note mucho en los casos que sea seguro, pero el resto de indicadores no dan resultados tan buenos\n"
      ],
      "metadata": {
        "id": "86V7zWc-sGMB"
      },
      "id": "86V7zWc-sGMB"
    },
    {
      "cell_type": "markdown",
      "source": [
        "el modelo debe ser muy mejorable, dada su baja precision, habria que plantear otra arquitectura para el modelo."
      ],
      "metadata": {
        "id": "udyoqf_9swu-"
      },
      "id": "udyoqf_9swu-"
    },
    {
      "cell_type": "code",
      "source": [],
      "metadata": {
        "id": "q8XeJX35mCsM"
      },
      "id": "q8XeJX35mCsM",
      "execution_count": null,
      "outputs": []
    },
    {
      "cell_type": "code",
      "execution_count": null,
      "id": "657a43a6",
      "metadata": {
        "id": "657a43a6"
      },
      "outputs": [],
      "source": []
    }
  ],
  "metadata": {
    "kernelspec": {
      "display_name": "Python 3",
      "name": "python3"
    },
    "language_info": {
      "codemirror_mode": {
        "name": "ipython",
        "version": 3
      },
      "file_extension": ".py",
      "mimetype": "text/x-python",
      "name": "python",
      "nbconvert_exporter": "python",
      "pygments_lexer": "ipython3",
      "version": "3.9.13"
    },
    "colab": {
      "provenance": [],
      "gpuType": "T4"
    },
    "accelerator": "GPU"
  },
  "nbformat": 4,
  "nbformat_minor": 5
}